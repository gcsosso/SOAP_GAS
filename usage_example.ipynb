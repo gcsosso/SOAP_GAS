{
 "cells": [
  {
   "cell_type": "markdown",
   "metadata": {},
   "source": [
    "## Before running"
   ]
  },
  {
   "cell_type": "markdown",
   "metadata": {},
   "source": [
    "A virtual environment can be created using \n",
    "- 'pipenv install'\n",
    "- 'pipenv shell'\n",
    "\n",
    "This will allow us to all use the same packages and versions. They are listed in the Pipfile"
   ]
  },
  {
   "cell_type": "code",
   "execution_count": 1,
   "metadata": {},
   "outputs": [
    {
     "name": "stderr",
     "output_type": "stream",
     "text": [
      "2023-03-19 22:17:47.809366: I tensorflow/core/platform/cpu_feature_guard.cc:193] This TensorFlow binary is optimized with oneAPI Deep Neural Network Library (oneDNN) to use the following CPU instructions in performance-critical operations:  AVX2 FMA\n",
      "To enable them in other operations, rebuild TensorFlow with the appropriate compiler flags.\n"
     ]
    }
   ],
   "source": [
    "from genAlg import *"
   ]
  },
  {
   "cell_type": "code",
   "execution_count": null,
   "metadata": {},
   "outputs": [],
   "source": []
  },
  {
   "cell_type": "markdown",
   "metadata": {},
   "source": [
    "## Inputs"
   ]
  },
  {
   "cell_type": "markdown",
   "metadata": {},
   "source": [
    "Dictionaries are taken as input from a parameter file, they contain the parameters for each soap descriptor"
   ]
  },
  {
   "cell_type": "code",
   "execution_count": 15,
   "metadata": {},
   "outputs": [],
   "source": [
    "descDict1 = {'lower': 2,\n",
    "             'upper': 10,\n",
    "             'centres': '{8, 7, 6, 1, 16, 17, 9}',\n",
    "             'neighbours': '{8, 7, 6, 1, 16, 17, 9}',\n",
    "             'nu_R': 1,\n",
    "             'nu_S': 0,\n",
    "             'mutation_chance': 0.50,\n",
    "             'min_cutoff': 5,\n",
    "             'max_cutoff': 20,\n",
    "             'min_sigma': 0.1,\n",
    "             'max_sigma': 1.5,\n",
    "             'message_steps': 0}\n",
    "\n",
    "descDict2 = {'lower': 10,\n",
    "             'upper': 20,\n",
    "             'centres': '{8, 7, 6, 1, 16, 17, 9}',\n",
    "             'neighbours': '{8, 7, 6, 1, 16, 17, 9}',\n",
    "             'nu_R': 1,\n",
    "             'nu_S': 0,\n",
    "             'mutation_chance': 0.50,\n",
    "             'min_cutoff': 5,\n",
    "             'max_cutoff': 20,\n",
    "             'min_sigma': 0.1,\n",
    "             'max_sigma': 1.5,\n",
    "             'message_steps': 0}"
   ]
  },
  {
   "cell_type": "markdown",
   "metadata": {},
   "source": [
    "Other parameters are also taken as input. These are automatically checked that the parameters are viable"
   ]
  },
  {
   "cell_type": "code",
   "execution_count": 16,
   "metadata": {},
   "outputs": [],
   "source": [
    "num_gens = 100\n",
    "best_sample, lucky_few, population_size, number_of_children = 4, 2, 12, 4\n",
    "early_stop = 2\n",
    "early_number = 3 \n",
    "min_generations = 5"
   ]
  },
  {
   "cell_type": "markdown",
   "metadata": {},
   "source": [
    "## GeneParameter"
   ]
  },
  {
   "cell_type": "markdown",
   "metadata": {},
   "source": [
    "GeneParameter class is created from each descriptor dictionary. "
   ]
  },
  {
   "cell_type": "code",
   "execution_count": 17,
   "metadata": {},
   "outputs": [],
   "source": [
    "params1 = GeneParameters(**descDict1)\n",
    "params2 = GeneParameters(**descDict2)"
   ]
  },
  {
   "cell_type": "code",
   "execution_count": 18,
   "metadata": {},
   "outputs": [
    {
     "data": {
      "text/plain": [
       "GeneParameters(lower=2, upper=10, centres='{8, 7, 6, 1, 16, 17, 9}', neighbours='{8, 7}', nu_R=1, nu_S=0, mutation_chance=0.5, min_cutoff=5, max_cutoff=20, min_sigma=0.1, max_sigma=1.5, message_steps=0)"
      ]
     },
     "execution_count": 18,
     "metadata": {},
     "output_type": "execute_result"
    }
   ],
   "source": [
    "params1"
   ]
  },
  {
   "cell_type": "markdown",
   "metadata": {},
   "source": [
    "## GeneSet"
   ]
  },
  {
   "cell_type": "markdown",
   "metadata": {},
   "source": [
    "We can use these classes to create a specific set of parameters that are consistant with these values. This returns a randomly generated GeneSet class"
   ]
  },
  {
   "cell_type": "code",
   "execution_count": 19,
   "metadata": {},
   "outputs": [
    {
     "data": {
      "text/plain": [
       "GeneSet(12, 5, 2, 0.1)"
      ]
     },
     "execution_count": 19,
     "metadata": {},
     "output_type": "execute_result"
    }
   ],
   "source": [
    "example_gene_set = params1.make_gene_set()\n",
    "example_gene_set"
   ]
  },
  {
   "cell_type": "markdown",
   "metadata": {},
   "source": [
    "We can get the parameters used to create the GeneSet class"
   ]
  },
  {
   "cell_type": "code",
   "execution_count": 20,
   "metadata": {},
   "outputs": [
    {
     "data": {
      "text/plain": [
       "GeneParameters(lower=2, upper=10, centres='{8, 7, 6, 1, 16, 17, 9}', neighbours='{8, 7}', nu_R=1, nu_S=0, mutation_chance=0.5, min_cutoff=5, max_cutoff=20, min_sigma=0.1, max_sigma=1.5, message_steps=0)"
      ]
     },
     "execution_count": 20,
     "metadata": {},
     "output_type": "execute_result"
    }
   ],
   "source": [
    "example_gene_set.gene_parameters"
   ]
  },
  {
   "cell_type": "markdown",
   "metadata": {},
   "source": [
    "We can get a descriptor string to be used as an input for getting SOAPs"
   ]
  },
  {
   "cell_type": "code",
   "execution_count": 21,
   "metadata": {},
   "outputs": [
    {
     "data": {
      "text/plain": [
       "'soap average cutoff=12 l_max=5 n_max=2 atom_sigma=0.1 n_Z=7 Z={8, 7, 6, 1, 16, 17, 9} n_species=2 species_Z={8, 7} nu_R=1 nu_S=0'"
      ]
     },
     "execution_count": 21,
     "metadata": {},
     "output_type": "execute_result"
    }
   ],
   "source": [
    "example_gene_set.get_soap_string()"
   ]
  },
  {
   "cell_type": "markdown",
   "metadata": {},
   "source": [
    "We can also mutate the gene using the mutation chance in the GeneParameters class"
   ]
  },
  {
   "cell_type": "code",
   "execution_count": 12,
   "metadata": {},
   "outputs": [
    {
     "name": "stdout",
     "output_type": "stream",
     "text": [
      "Before mutation [15, 9, 2, 1.25]\n",
      "After mutation [15, 9, 7, 0.73]\n"
     ]
    }
   ],
   "source": [
    "print(f\"Before mutation {example_gene_set}\")\n",
    "example_gene_set.mutate_gene()\n",
    "print(f\"After mutation {example_gene_set}\")"
   ]
  },
  {
   "cell_type": "code",
   "execution_count": null,
   "metadata": {},
   "outputs": [],
   "source": []
  },
  {
   "cell_type": "code",
   "execution_count": null,
   "metadata": {},
   "outputs": [],
   "source": []
  },
  {
   "cell_type": "markdown",
   "metadata": {},
   "source": [
    "## Individual"
   ]
  },
  {
   "cell_type": "markdown",
   "metadata": {},
   "source": [
    "An Individual is made up of a list of GeneSet classes."
   ]
  },
  {
   "cell_type": "code",
   "execution_count": 13,
   "metadata": {},
   "outputs": [
    {
     "data": {
      "text/plain": [
       "Individual(['GeneSet(15, 9, 7, 0.73)', 'GeneSet(17, 12, 16, 0.17)'])"
      ]
     },
     "execution_count": 13,
     "metadata": {},
     "output_type": "execute_result"
    }
   ],
   "source": [
    "example_gene_set_two = params2.make_gene_set()\n",
    "gene_set_list = [example_gene_set, example_gene_set_two]\n",
    "example_individual = Individual(gene_set_list)\n",
    "example_individual"
   ]
  },
  {
   "cell_type": "markdown",
   "metadata": {},
   "source": [
    "Getting the score for an indivudual"
   ]
  },
  {
   "cell_type": "code",
   "execution_count": 14,
   "metadata": {},
   "outputs": [
    {
     "name": "stdout",
     "output_type": "stream",
     "text": [
      "conf_s file exists\n",
      "Epoch 1/200\n",
      "4/4 [==============================] - 1s 57ms/step - loss: 1.1116 - accuracy: 0.3627 - val_loss: 0.9843 - val_accuracy: 0.4615\n",
      "Epoch 2/200\n",
      "4/4 [==============================] - 0s 9ms/step - loss: 0.9835 - accuracy: 0.5196 - val_loss: 0.9164 - val_accuracy: 0.5000\n",
      "Epoch 3/200\n",
      "4/4 [==============================] - 0s 11ms/step - loss: 0.9257 - accuracy: 0.5588 - val_loss: 0.8519 - val_accuracy: 0.6538\n",
      "Epoch 4/200\n",
      "4/4 [==============================] - 0s 13ms/step - loss: 0.8763 - accuracy: 0.5686 - val_loss: 0.8412 - val_accuracy: 0.6923\n",
      "Epoch 5/200\n",
      "4/4 [==============================] - 0s 12ms/step - loss: 0.8520 - accuracy: 0.6275 - val_loss: 0.8093 - val_accuracy: 0.6923\n",
      "Epoch 6/200\n",
      "4/4 [==============================] - 0s 12ms/step - loss: 0.8030 - accuracy: 0.5882 - val_loss: 0.7712 - val_accuracy: 0.6154\n",
      "Epoch 7/200\n",
      "4/4 [==============================] - 0s 12ms/step - loss: 0.7833 - accuracy: 0.6078 - val_loss: 0.7591 - val_accuracy: 0.6154\n",
      "Epoch 8/200\n",
      "4/4 [==============================] - 0s 12ms/step - loss: 0.7629 - accuracy: 0.6275 - val_loss: 0.7827 - val_accuracy: 0.6923\n",
      "Epoch 9/200\n",
      "4/4 [==============================] - 0s 14ms/step - loss: 0.7730 - accuracy: 0.6078 - val_loss: 0.7547 - val_accuracy: 0.7308\n",
      "Epoch 10/200\n",
      "4/4 [==============================] - 0s 13ms/step - loss: 0.7540 - accuracy: 0.6275 - val_loss: 0.7267 - val_accuracy: 0.7308\n",
      "Epoch 11/200\n",
      "4/4 [==============================] - 0s 12ms/step - loss: 0.7485 - accuracy: 0.6373 - val_loss: 0.7488 - val_accuracy: 0.6923\n",
      "Epoch 12/200\n",
      "4/4 [==============================] - 0s 12ms/step - loss: 0.7505 - accuracy: 0.6078 - val_loss: 0.7331 - val_accuracy: 0.6923\n",
      "Epoch 13/200\n",
      "4/4 [==============================] - 0s 12ms/step - loss: 0.7306 - accuracy: 0.6471 - val_loss: 0.7582 - val_accuracy: 0.5769\n",
      "Epoch 14/200\n",
      "4/4 [==============================] - 0s 12ms/step - loss: 0.7213 - accuracy: 0.6569 - val_loss: 0.7789 - val_accuracy: 0.7308\n",
      "Epoch 15/200\n",
      "4/4 [==============================] - 0s 12ms/step - loss: 0.7316 - accuracy: 0.6275 - val_loss: 0.7852 - val_accuracy: 0.6923\n",
      "Epoch 16/200\n",
      "4/4 [==============================] - 0s 13ms/step - loss: 0.7162 - accuracy: 0.6078 - val_loss: 0.7700 - val_accuracy: 0.5385\n",
      "Epoch 17/200\n",
      "4/4 [==============================] - 0s 13ms/step - loss: 0.7317 - accuracy: 0.6765 - val_loss: 0.7559 - val_accuracy: 0.5769\n",
      "Epoch 18/200\n",
      "4/4 [==============================] - 0s 12ms/step - loss: 0.7218 - accuracy: 0.6471 - val_loss: 0.7674 - val_accuracy: 0.7308\n",
      "Epoch 19/200\n",
      "4/4 [==============================] - 0s 14ms/step - loss: 0.7788 - accuracy: 0.6373 - val_loss: 0.8134 - val_accuracy: 0.6923\n",
      "Epoch 20/200\n",
      "4/4 [==============================] - 0s 13ms/step - loss: 0.7289 - accuracy: 0.6471 - val_loss: 0.7678 - val_accuracy: 0.6538\n",
      "Epoch 21/200\n",
      "4/4 [==============================] - 0s 12ms/step - loss: 0.6859 - accuracy: 0.6961 - val_loss: 0.8027 - val_accuracy: 0.4615\n",
      "Epoch 22/200\n",
      "4/4 [==============================] - 0s 14ms/step - loss: 0.7027 - accuracy: 0.6961 - val_loss: 0.7867 - val_accuracy: 0.5769\n",
      "Epoch 23/200\n",
      "4/4 [==============================] - 0s 15ms/step - loss: 0.6852 - accuracy: 0.6373 - val_loss: 0.7728 - val_accuracy: 0.7308\n",
      "Epoch 24/200\n",
      "4/4 [==============================] - 0s 14ms/step - loss: 0.6740 - accuracy: 0.6471 - val_loss: 0.7586 - val_accuracy: 0.6538\n",
      "Epoch 25/200\n",
      "4/4 [==============================] - 0s 12ms/step - loss: 0.6863 - accuracy: 0.6765 - val_loss: 0.7624 - val_accuracy: 0.5769\n",
      "Epoch 26/200\n",
      "4/4 [==============================] - 0s 14ms/step - loss: 0.6758 - accuracy: 0.6373 - val_loss: 0.7827 - val_accuracy: 0.7308\n",
      "Epoch 27/200\n",
      "4/4 [==============================] - 0s 16ms/step - loss: 0.6596 - accuracy: 0.7059 - val_loss: 0.7788 - val_accuracy: 0.6923\n",
      "Epoch 28/200\n",
      "4/4 [==============================] - 0s 13ms/step - loss: 0.6459 - accuracy: 0.6863 - val_loss: 0.8093 - val_accuracy: 0.4231\n",
      "Epoch 29/200\n",
      "4/4 [==============================] - 0s 14ms/step - loss: 0.6522 - accuracy: 0.6765 - val_loss: 0.7863 - val_accuracy: 0.6923\n",
      "Epoch 30/200\n",
      "4/4 [==============================] - 0s 14ms/step - loss: 0.6432 - accuracy: 0.6569 - val_loss: 0.7488 - val_accuracy: 0.7308\n",
      "Epoch 31/200\n",
      "4/4 [==============================] - 0s 15ms/step - loss: 0.6511 - accuracy: 0.6667 - val_loss: 0.7759 - val_accuracy: 0.6923\n",
      "Epoch 32/200\n",
      "4/4 [==============================] - 0s 15ms/step - loss: 0.6304 - accuracy: 0.7157 - val_loss: 0.7789 - val_accuracy: 0.5385\n",
      "Epoch 33/200\n",
      "4/4 [==============================] - 0s 14ms/step - loss: 0.6158 - accuracy: 0.6863 - val_loss: 0.7597 - val_accuracy: 0.6154\n",
      "Epoch 34/200\n",
      "4/4 [==============================] - 0s 14ms/step - loss: 0.6129 - accuracy: 0.6765 - val_loss: 0.7659 - val_accuracy: 0.6154\n",
      "Epoch 35/200\n",
      "4/4 [==============================] - 0s 14ms/step - loss: 0.6045 - accuracy: 0.6961 - val_loss: 0.7969 - val_accuracy: 0.5000\n",
      "Epoch 36/200\n",
      "4/4 [==============================] - 0s 14ms/step - loss: 0.6348 - accuracy: 0.7059 - val_loss: 0.8128 - val_accuracy: 0.4615\n",
      "Epoch 37/200\n",
      "4/4 [==============================] - 0s 13ms/step - loss: 0.5872 - accuracy: 0.7255 - val_loss: 0.7886 - val_accuracy: 0.6923\n",
      "Epoch 38/200\n",
      "4/4 [==============================] - 0s 13ms/step - loss: 0.6180 - accuracy: 0.7255 - val_loss: 0.7699 - val_accuracy: 0.6154\n",
      "Epoch 39/200\n",
      "4/4 [==============================] - 0s 13ms/step - loss: 0.6069 - accuracy: 0.6667 - val_loss: 0.9054 - val_accuracy: 0.4615\n",
      "Epoch 40/200\n",
      "4/4 [==============================] - 0s 12ms/step - loss: 0.5929 - accuracy: 0.6863 - val_loss: 0.8539 - val_accuracy: 0.4615\n",
      "Epoch 41/200\n",
      "4/4 [==============================] - 0s 11ms/step - loss: 0.5936 - accuracy: 0.7647 - val_loss: 0.7922 - val_accuracy: 0.7308\n",
      "Epoch 42/200\n",
      "4/4 [==============================] - 0s 13ms/step - loss: 0.5997 - accuracy: 0.7353 - val_loss: 0.7789 - val_accuracy: 0.5769\n",
      "Epoch 43/200\n",
      "4/4 [==============================] - 0s 13ms/step - loss: 0.5669 - accuracy: 0.7157 - val_loss: 0.8371 - val_accuracy: 0.4231\n",
      "Epoch 44/200\n",
      "4/4 [==============================] - 0s 12ms/step - loss: 0.5540 - accuracy: 0.7157 - val_loss: 0.8187 - val_accuracy: 0.5000\n",
      "Epoch 45/200\n",
      "4/4 [==============================] - 0s 12ms/step - loss: 0.5664 - accuracy: 0.7745 - val_loss: 0.7756 - val_accuracy: 0.6538\n",
      "Epoch 46/200\n",
      "4/4 [==============================] - 0s 11ms/step - loss: 0.5489 - accuracy: 0.6863 - val_loss: 0.8044 - val_accuracy: 0.5769\n",
      "Epoch 47/200\n",
      "4/4 [==============================] - 0s 12ms/step - loss: 0.5410 - accuracy: 0.7451 - val_loss: 0.8199 - val_accuracy: 0.5385\n",
      "Epoch 48/200\n",
      "4/4 [==============================] - 0s 11ms/step - loss: 0.5217 - accuracy: 0.7745 - val_loss: 0.8334 - val_accuracy: 0.5000\n",
      "Epoch 49/200\n",
      "4/4 [==============================] - 0s 11ms/step - loss: 0.5154 - accuracy: 0.7941 - val_loss: 0.8447 - val_accuracy: 0.6154\n",
      "Epoch 50/200\n",
      "4/4 [==============================] - 0s 10ms/step - loss: 0.5034 - accuracy: 0.7941 - val_loss: 0.8543 - val_accuracy: 0.5385\n",
      "Epoch 51/200\n",
      "4/4 [==============================] - 0s 10ms/step - loss: 0.5109 - accuracy: 0.7157 - val_loss: 0.9956 - val_accuracy: 0.4231\n",
      "Epoch 52/200\n",
      "4/4 [==============================] - 0s 10ms/step - loss: 0.5118 - accuracy: 0.7353 - val_loss: 0.9083 - val_accuracy: 0.5000\n",
      "Epoch 53/200\n",
      "4/4 [==============================] - 0s 12ms/step - loss: 0.4905 - accuracy: 0.8235 - val_loss: 0.8513 - val_accuracy: 0.5769\n",
      "Epoch 54/200\n",
      "4/4 [==============================] - 0s 14ms/step - loss: 0.5951 - accuracy: 0.7549 - val_loss: 0.9252 - val_accuracy: 0.5385\n",
      "Epoch 55/200\n",
      "4/4 [==============================] - 0s 13ms/step - loss: 0.5114 - accuracy: 0.7941 - val_loss: 0.8940 - val_accuracy: 0.6538\n",
      "Epoch 56/200\n",
      "4/4 [==============================] - 0s 13ms/step - loss: 0.5085 - accuracy: 0.7843 - val_loss: 1.0428 - val_accuracy: 0.3846\n",
      "Epoch 57/200\n",
      "4/4 [==============================] - 0s 12ms/step - loss: 0.5416 - accuracy: 0.7157 - val_loss: 1.0783 - val_accuracy: 0.5000\n",
      "Epoch 58/200\n",
      "4/4 [==============================] - 0s 12ms/step - loss: 0.5088 - accuracy: 0.7353 - val_loss: 0.8572 - val_accuracy: 0.5769\n",
      "Epoch 59/200\n"
     ]
    },
    {
     "name": "stdout",
     "output_type": "stream",
     "text": [
      "4/4 [==============================] - 0s 12ms/step - loss: 0.4749 - accuracy: 0.7941 - val_loss: 0.9009 - val_accuracy: 0.5000\n",
      "Epoch 60/200\n",
      "4/4 [==============================] - 0s 12ms/step - loss: 0.4789 - accuracy: 0.7647 - val_loss: 1.0452 - val_accuracy: 0.4231\n",
      "1/1 [==============================] - 0s 86ms/step\n",
      "4/4 [==============================] - 0s 2ms/step\n",
      "1/1 [==============================] - 0s 28ms/step - loss: 1.0452 - accuracy: 0.4231\n",
      "4/4 [==============================] - 0s 2ms/step - loss: 0.4652 - accuracy: 0.8333\n",
      "Epoch 1/200\n",
      "4/4 [==============================] - 1s 95ms/step - loss: 1.0550 - accuracy: 0.5000 - val_loss: 1.0451 - val_accuracy: 0.4231\n",
      "Epoch 2/200\n",
      "4/4 [==============================] - 0s 9ms/step - loss: 0.9516 - accuracy: 0.5784 - val_loss: 1.0225 - val_accuracy: 0.4231\n",
      "Epoch 3/200\n",
      "4/4 [==============================] - 0s 10ms/step - loss: 0.8853 - accuracy: 0.6078 - val_loss: 1.0274 - val_accuracy: 0.4231\n",
      "Epoch 4/200\n",
      "4/4 [==============================] - 0s 10ms/step - loss: 0.8375 - accuracy: 0.6176 - val_loss: 1.0170 - val_accuracy: 0.4615\n",
      "Epoch 5/200\n",
      "4/4 [==============================] - 0s 10ms/step - loss: 0.8001 - accuracy: 0.6176 - val_loss: 0.9883 - val_accuracy: 0.6154\n",
      "Epoch 6/200\n",
      "4/4 [==============================] - 0s 10ms/step - loss: 0.7750 - accuracy: 0.6176 - val_loss: 0.9841 - val_accuracy: 0.6154\n",
      "Epoch 7/200\n",
      "4/4 [==============================] - 0s 10ms/step - loss: 0.7534 - accuracy: 0.6176 - val_loss: 1.0242 - val_accuracy: 0.6154\n",
      "Epoch 8/200\n",
      "4/4 [==============================] - 0s 11ms/step - loss: 0.7400 - accuracy: 0.5980 - val_loss: 0.9763 - val_accuracy: 0.5769\n",
      "Epoch 9/200\n",
      "4/4 [==============================] - 0s 11ms/step - loss: 0.7402 - accuracy: 0.6275 - val_loss: 0.9735 - val_accuracy: 0.5769\n",
      "Epoch 10/200\n",
      "4/4 [==============================] - 0s 12ms/step - loss: 0.7310 - accuracy: 0.6373 - val_loss: 1.0225 - val_accuracy: 0.6154\n",
      "Epoch 11/200\n",
      "4/4 [==============================] - 0s 12ms/step - loss: 0.7199 - accuracy: 0.6078 - val_loss: 1.1035 - val_accuracy: 0.6154\n",
      "Epoch 12/200\n",
      "4/4 [==============================] - 0s 12ms/step - loss: 0.7096 - accuracy: 0.6078 - val_loss: 1.1055 - val_accuracy: 0.6154\n",
      "Epoch 13/200\n",
      "4/4 [==============================] - 0s 13ms/step - loss: 0.7010 - accuracy: 0.6078 - val_loss: 1.0842 - val_accuracy: 0.6154\n",
      "Epoch 14/200\n",
      "4/4 [==============================] - 0s 12ms/step - loss: 0.6907 - accuracy: 0.6275 - val_loss: 1.0344 - val_accuracy: 0.6154\n",
      "Epoch 15/200\n",
      "4/4 [==============================] - 0s 12ms/step - loss: 0.6856 - accuracy: 0.6275 - val_loss: 1.0425 - val_accuracy: 0.6154\n",
      "Epoch 16/200\n",
      "4/4 [==============================] - 0s 12ms/step - loss: 0.6746 - accuracy: 0.6471 - val_loss: 1.0505 - val_accuracy: 0.6154\n",
      "Epoch 17/200\n",
      "4/4 [==============================] - 0s 12ms/step - loss: 0.6673 - accuracy: 0.6569 - val_loss: 1.1003 - val_accuracy: 0.6154\n",
      "Epoch 18/200\n",
      "4/4 [==============================] - 0s 12ms/step - loss: 0.6638 - accuracy: 0.6471 - val_loss: 1.1020 - val_accuracy: 0.6154\n",
      "Epoch 19/200\n",
      "4/4 [==============================] - 0s 12ms/step - loss: 0.6494 - accuracy: 0.6569 - val_loss: 1.0576 - val_accuracy: 0.6154\n",
      "Epoch 20/200\n",
      "4/4 [==============================] - 0s 13ms/step - loss: 0.6484 - accuracy: 0.6569 - val_loss: 1.0286 - val_accuracy: 0.6154\n",
      "Epoch 21/200\n",
      "4/4 [==============================] - 0s 12ms/step - loss: 0.6404 - accuracy: 0.6667 - val_loss: 1.0826 - val_accuracy: 0.5769\n",
      "Epoch 22/200\n",
      "4/4 [==============================] - 0s 12ms/step - loss: 0.6418 - accuracy: 0.7255 - val_loss: 1.0704 - val_accuracy: 0.5769\n",
      "Epoch 23/200\n",
      "4/4 [==============================] - 0s 12ms/step - loss: 0.6202 - accuracy: 0.7059 - val_loss: 1.0742 - val_accuracy: 0.6154\n",
      "Epoch 24/200\n",
      "4/4 [==============================] - 0s 12ms/step - loss: 0.6145 - accuracy: 0.6667 - val_loss: 1.0859 - val_accuracy: 0.6154\n",
      "Epoch 25/200\n",
      "4/4 [==============================] - 0s 12ms/step - loss: 0.6062 - accuracy: 0.7157 - val_loss: 1.1709 - val_accuracy: 0.5769\n",
      "Epoch 26/200\n",
      "4/4 [==============================] - 0s 13ms/step - loss: 0.6004 - accuracy: 0.7451 - val_loss: 1.1057 - val_accuracy: 0.5385\n",
      "Epoch 27/200\n",
      "4/4 [==============================] - 0s 12ms/step - loss: 0.5844 - accuracy: 0.7843 - val_loss: 1.0792 - val_accuracy: 0.5000\n",
      "Epoch 28/200\n",
      "4/4 [==============================] - 0s 12ms/step - loss: 0.5983 - accuracy: 0.7549 - val_loss: 1.0662 - val_accuracy: 0.6154\n",
      "Epoch 29/200\n",
      "4/4 [==============================] - 0s 13ms/step - loss: 0.5562 - accuracy: 0.7941 - val_loss: 1.2265 - val_accuracy: 0.6154\n",
      "Epoch 30/200\n",
      "4/4 [==============================] - 0s 13ms/step - loss: 0.6354 - accuracy: 0.6961 - val_loss: 1.2575 - val_accuracy: 0.6154\n",
      "Epoch 31/200\n",
      "4/4 [==============================] - 0s 12ms/step - loss: 0.5468 - accuracy: 0.7549 - val_loss: 1.0991 - val_accuracy: 0.6538\n",
      "Epoch 32/200\n",
      "4/4 [==============================] - 0s 12ms/step - loss: 0.5795 - accuracy: 0.7157 - val_loss: 1.1230 - val_accuracy: 0.5385\n",
      "Epoch 33/200\n",
      "4/4 [==============================] - 0s 12ms/step - loss: 0.5322 - accuracy: 0.7647 - val_loss: 1.2982 - val_accuracy: 0.5385\n",
      "Epoch 34/200\n",
      "4/4 [==============================] - 0s 12ms/step - loss: 0.5465 - accuracy: 0.7647 - val_loss: 1.2238 - val_accuracy: 0.5769\n",
      "Epoch 35/200\n",
      "4/4 [==============================] - 0s 12ms/step - loss: 0.5170 - accuracy: 0.7843 - val_loss: 1.1575 - val_accuracy: 0.5385\n",
      "Epoch 36/200\n",
      "4/4 [==============================] - 0s 11ms/step - loss: 0.5111 - accuracy: 0.8039 - val_loss: 1.1927 - val_accuracy: 0.5769\n",
      "Epoch 37/200\n",
      "4/4 [==============================] - 0s 11ms/step - loss: 0.4877 - accuracy: 0.8039 - val_loss: 1.3369 - val_accuracy: 0.5385\n",
      "Epoch 38/200\n",
      "4/4 [==============================] - 0s 11ms/step - loss: 0.5164 - accuracy: 0.7647 - val_loss: 1.2596 - val_accuracy: 0.6154\n",
      "Epoch 39/200\n",
      "4/4 [==============================] - 0s 12ms/step - loss: 0.4710 - accuracy: 0.7941 - val_loss: 1.2072 - val_accuracy: 0.6538\n",
      "Epoch 40/200\n",
      "4/4 [==============================] - 0s 12ms/step - loss: 0.4808 - accuracy: 0.7843 - val_loss: 1.2867 - val_accuracy: 0.6154\n",
      "Epoch 41/200\n",
      "4/4 [==============================] - 0s 11ms/step - loss: 0.4545 - accuracy: 0.8137 - val_loss: 1.2514 - val_accuracy: 0.5769\n",
      "Epoch 42/200\n",
      "4/4 [==============================] - 0s 10ms/step - loss: 0.4759 - accuracy: 0.8235 - val_loss: 1.1929 - val_accuracy: 0.6154\n",
      "Epoch 43/200\n",
      "4/4 [==============================] - 0s 10ms/step - loss: 0.4611 - accuracy: 0.8235 - val_loss: 1.4180 - val_accuracy: 0.5769\n",
      "Epoch 44/200\n",
      "4/4 [==============================] - 0s 12ms/step - loss: 0.4665 - accuracy: 0.7843 - val_loss: 1.5066 - val_accuracy: 0.6538\n",
      "Epoch 45/200\n",
      "4/4 [==============================] - 0s 12ms/step - loss: 0.4275 - accuracy: 0.8137 - val_loss: 1.3128 - val_accuracy: 0.6154\n",
      "Epoch 46/200\n",
      "4/4 [==============================] - 0s 13ms/step - loss: 0.4460 - accuracy: 0.8039 - val_loss: 1.3765 - val_accuracy: 0.6923\n",
      "Epoch 47/200\n",
      "4/4 [==============================] - 0s 12ms/step - loss: 0.4094 - accuracy: 0.8627 - val_loss: 1.4164 - val_accuracy: 0.5769\n",
      "Epoch 48/200\n",
      "4/4 [==============================] - 0s 12ms/step - loss: 0.3918 - accuracy: 0.8529 - val_loss: 1.4065 - val_accuracy: 0.5769\n",
      "Epoch 49/200\n",
      "4/4 [==============================] - 0s 11ms/step - loss: 0.4110 - accuracy: 0.8235 - val_loss: 1.5411 - val_accuracy: 0.5769\n",
      "Epoch 50/200\n",
      "4/4 [==============================] - 0s 11ms/step - loss: 0.3942 - accuracy: 0.8431 - val_loss: 1.5905 - val_accuracy: 0.5769\n",
      "Epoch 51/200\n",
      "4/4 [==============================] - 0s 12ms/step - loss: 0.3923 - accuracy: 0.8431 - val_loss: 1.4899 - val_accuracy: 0.6154\n",
      "Epoch 52/200\n",
      "4/4 [==============================] - 0s 11ms/step - loss: 0.3838 - accuracy: 0.8235 - val_loss: 1.3720 - val_accuracy: 0.5385\n",
      "Epoch 53/200\n",
      "4/4 [==============================] - 0s 10ms/step - loss: 0.4214 - accuracy: 0.8333 - val_loss: 1.5345 - val_accuracy: 0.6154\n",
      "Epoch 54/200\n",
      "4/4 [==============================] - 0s 10ms/step - loss: 0.3396 - accuracy: 0.8627 - val_loss: 1.5721 - val_accuracy: 0.5385\n",
      "Epoch 55/200\n",
      "4/4 [==============================] - 0s 10ms/step - loss: 0.3594 - accuracy: 0.8431 - val_loss: 1.5769 - val_accuracy: 0.6154\n",
      "Epoch 56/200\n",
      "4/4 [==============================] - 0s 11ms/step - loss: 0.3380 - accuracy: 0.8431 - val_loss: 1.5782 - val_accuracy: 0.6538\n",
      "Epoch 57/200\n",
      "4/4 [==============================] - 0s 12ms/step - loss: 0.3240 - accuracy: 0.8824 - val_loss: 1.5325 - val_accuracy: 0.5769\n",
      "Epoch 58/200\n",
      "4/4 [==============================] - 0s 13ms/step - loss: 0.3194 - accuracy: 0.9020 - val_loss: 1.5488 - val_accuracy: 0.5385\n",
      "Epoch 59/200\n",
      "4/4 [==============================] - 0s 13ms/step - loss: 0.2876 - accuracy: 0.8824 - val_loss: 1.7978 - val_accuracy: 0.5769\n",
      "1/1 [==============================] - 0s 59ms/step\n",
      "4/4 [==============================] - 0s 2ms/step\n",
      "1/1 [==============================] - 0s 26ms/step - loss: 1.7978 - accuracy: 0.5769\n",
      "4/4 [==============================] - 0s 2ms/step - loss: 0.2996 - accuracy: 0.8627\n",
      "Epoch 1/200\n",
      "4/4 [==============================] - 1s 72ms/step - loss: 1.0751 - accuracy: 0.3725 - val_loss: 1.0119 - val_accuracy: 0.6154\n",
      "Epoch 2/200\n",
      "4/4 [==============================] - 0s 14ms/step - loss: 0.9817 - accuracy: 0.5490 - val_loss: 0.9623 - val_accuracy: 0.6154\n",
      "Epoch 3/200\n",
      "4/4 [==============================] - 0s 12ms/step - loss: 0.9038 - accuracy: 0.6373 - val_loss: 0.9371 - val_accuracy: 0.5385\n",
      "Epoch 4/200\n",
      "4/4 [==============================] - 0s 12ms/step - loss: 0.8460 - accuracy: 0.6275 - val_loss: 0.9129 - val_accuracy: 0.5769\n",
      "Epoch 5/200\n",
      "4/4 [==============================] - 0s 12ms/step - loss: 0.7971 - accuracy: 0.6569 - val_loss: 0.8928 - val_accuracy: 0.6154\n",
      "Epoch 6/200\n",
      "4/4 [==============================] - 0s 12ms/step - loss: 0.7736 - accuracy: 0.6078 - val_loss: 0.9014 - val_accuracy: 0.5000\n",
      "Epoch 7/200\n",
      "4/4 [==============================] - 0s 14ms/step - loss: 0.7679 - accuracy: 0.6176 - val_loss: 0.9126 - val_accuracy: 0.5000\n",
      "Epoch 8/200\n",
      "4/4 [==============================] - 0s 11ms/step - loss: 0.7624 - accuracy: 0.5784 - val_loss: 0.8915 - val_accuracy: 0.5000\n",
      "Epoch 9/200\n",
      "4/4 [==============================] - 0s 11ms/step - loss: 0.7276 - accuracy: 0.6471 - val_loss: 0.8991 - val_accuracy: 0.5385\n",
      "Epoch 10/200\n",
      "4/4 [==============================] - 0s 10ms/step - loss: 0.7260 - accuracy: 0.6373 - val_loss: 0.8953 - val_accuracy: 0.5769\n",
      "Epoch 11/200\n",
      "4/4 [==============================] - 0s 9ms/step - loss: 0.7226 - accuracy: 0.6471 - val_loss: 0.8714 - val_accuracy: 0.5769\n",
      "Epoch 12/200\n",
      "4/4 [==============================] - 0s 9ms/step - loss: 0.7368 - accuracy: 0.6373 - val_loss: 0.8768 - val_accuracy: 0.6154\n",
      "Epoch 13/200\n",
      "4/4 [==============================] - 0s 9ms/step - loss: 0.7148 - accuracy: 0.6373 - val_loss: 0.8768 - val_accuracy: 0.6154\n",
      "Epoch 14/200\n",
      "4/4 [==============================] - 0s 10ms/step - loss: 0.7130 - accuracy: 0.6765 - val_loss: 0.9216 - val_accuracy: 0.5000\n",
      "Epoch 15/200\n",
      "4/4 [==============================] - 0s 10ms/step - loss: 0.7367 - accuracy: 0.5980 - val_loss: 0.8807 - val_accuracy: 0.5000\n",
      "Epoch 16/200\n",
      "4/4 [==============================] - 0s 9ms/step - loss: 0.7109 - accuracy: 0.6667 - val_loss: 0.8564 - val_accuracy: 0.6154\n",
      "Epoch 17/200\n",
      "4/4 [==============================] - 0s 9ms/step - loss: 0.7071 - accuracy: 0.6569 - val_loss: 0.8884 - val_accuracy: 0.6154\n",
      "Epoch 18/200\n",
      "4/4 [==============================] - 0s 9ms/step - loss: 0.6976 - accuracy: 0.6569 - val_loss: 0.8589 - val_accuracy: 0.6923\n",
      "Epoch 19/200\n",
      "4/4 [==============================] - 0s 9ms/step - loss: 0.6730 - accuracy: 0.6471 - val_loss: 0.8787 - val_accuracy: 0.5769\n",
      "Epoch 20/200\n",
      "4/4 [==============================] - 0s 9ms/step - loss: 0.6799 - accuracy: 0.6765 - val_loss: 0.8638 - val_accuracy: 0.6154\n",
      "Epoch 21/200\n",
      "4/4 [==============================] - 0s 9ms/step - loss: 0.6852 - accuracy: 0.7451 - val_loss: 0.8535 - val_accuracy: 0.5385\n",
      "Epoch 22/200\n",
      "4/4 [==============================] - 0s 9ms/step - loss: 0.6703 - accuracy: 0.7549 - val_loss: 0.8554 - val_accuracy: 0.6538\n",
      "Epoch 23/200\n",
      "4/4 [==============================] - 0s 9ms/step - loss: 0.6439 - accuracy: 0.7157 - val_loss: 0.9159 - val_accuracy: 0.5385\n",
      "Epoch 24/200\n",
      "4/4 [==============================] - 0s 9ms/step - loss: 0.6557 - accuracy: 0.6765 - val_loss: 0.8405 - val_accuracy: 0.6923\n",
      "Epoch 25/200\n",
      "4/4 [==============================] - 0s 9ms/step - loss: 0.6220 - accuracy: 0.7255 - val_loss: 0.8298 - val_accuracy: 0.5769\n",
      "Epoch 26/200\n",
      "4/4 [==============================] - 0s 9ms/step - loss: 0.6148 - accuracy: 0.7549 - val_loss: 0.8370 - val_accuracy: 0.6154\n",
      "Epoch 27/200\n",
      "4/4 [==============================] - 0s 9ms/step - loss: 0.6207 - accuracy: 0.7941 - val_loss: 0.8256 - val_accuracy: 0.5769\n",
      "Epoch 28/200\n",
      "4/4 [==============================] - 0s 11ms/step - loss: 0.5945 - accuracy: 0.7843 - val_loss: 0.8773 - val_accuracy: 0.6154\n",
      "Epoch 29/200\n",
      "4/4 [==============================] - 0s 12ms/step - loss: 0.6151 - accuracy: 0.6961 - val_loss: 0.8984 - val_accuracy: 0.6154\n",
      "Epoch 30/200\n",
      "4/4 [==============================] - 0s 12ms/step - loss: 0.5976 - accuracy: 0.7059 - val_loss: 0.8373 - val_accuracy: 0.6923\n",
      "Epoch 31/200\n",
      "4/4 [==============================] - 0s 12ms/step - loss: 0.5745 - accuracy: 0.7647 - val_loss: 0.8075 - val_accuracy: 0.6154\n",
      "Epoch 32/200\n",
      "4/4 [==============================] - 0s 12ms/step - loss: 0.5713 - accuracy: 0.7451 - val_loss: 0.8370 - val_accuracy: 0.6154\n",
      "Epoch 33/200\n",
      "4/4 [==============================] - 0s 12ms/step - loss: 0.5453 - accuracy: 0.8039 - val_loss: 0.8084 - val_accuracy: 0.6538\n",
      "Epoch 34/200\n",
      "4/4 [==============================] - 0s 12ms/step - loss: 0.5431 - accuracy: 0.7353 - val_loss: 0.8457 - val_accuracy: 0.6538\n",
      "Epoch 35/200\n",
      "4/4 [==============================] - 0s 11ms/step - loss: 0.5426 - accuracy: 0.7353 - val_loss: 0.8460 - val_accuracy: 0.6538\n",
      "Epoch 36/200\n",
      "4/4 [==============================] - 0s 10ms/step - loss: 0.5391 - accuracy: 0.7941 - val_loss: 0.8980 - val_accuracy: 0.6538\n",
      "Epoch 37/200\n",
      "4/4 [==============================] - 0s 9ms/step - loss: 0.5199 - accuracy: 0.8725 - val_loss: 0.9559 - val_accuracy: 0.5385\n",
      "Epoch 38/200\n",
      "4/4 [==============================] - 0s 9ms/step - loss: 0.5215 - accuracy: 0.7549 - val_loss: 0.8638 - val_accuracy: 0.6538\n",
      "Epoch 39/200\n",
      "4/4 [==============================] - 0s 9ms/step - loss: 0.5158 - accuracy: 0.7451 - val_loss: 0.8299 - val_accuracy: 0.6923\n",
      "Epoch 40/200\n",
      "4/4 [==============================] - 0s 9ms/step - loss: 0.4965 - accuracy: 0.7843 - val_loss: 0.8920 - val_accuracy: 0.6154\n",
      "Epoch 41/200\n",
      "4/4 [==============================] - 0s 9ms/step - loss: 0.4804 - accuracy: 0.7941 - val_loss: 0.8665 - val_accuracy: 0.6538\n",
      "Epoch 42/200\n",
      "4/4 [==============================] - 0s 9ms/step - loss: 0.5101 - accuracy: 0.8235 - val_loss: 0.9199 - val_accuracy: 0.6154\n",
      "Epoch 43/200\n",
      "4/4 [==============================] - 0s 9ms/step - loss: 0.4653 - accuracy: 0.8431 - val_loss: 0.9094 - val_accuracy: 0.6154\n",
      "Epoch 44/200\n",
      "4/4 [==============================] - 0s 9ms/step - loss: 0.4680 - accuracy: 0.7647 - val_loss: 0.9102 - val_accuracy: 0.6538\n",
      "Epoch 45/200\n",
      "4/4 [==============================] - 0s 9ms/step - loss: 0.4488 - accuracy: 0.8235 - val_loss: 0.9579 - val_accuracy: 0.6538\n",
      "Epoch 46/200\n",
      "4/4 [==============================] - 0s 9ms/step - loss: 0.4390 - accuracy: 0.8725 - val_loss: 1.0514 - val_accuracy: 0.5000\n",
      "Epoch 47/200\n",
      "4/4 [==============================] - 0s 9ms/step - loss: 0.4399 - accuracy: 0.8431 - val_loss: 0.8977 - val_accuracy: 0.6923\n",
      "Epoch 48/200\n",
      "4/4 [==============================] - 0s 10ms/step - loss: 0.4399 - accuracy: 0.8137 - val_loss: 0.8718 - val_accuracy: 0.6923\n",
      "Epoch 49/200\n",
      "4/4 [==============================] - 0s 9ms/step - loss: 0.4496 - accuracy: 0.8333 - val_loss: 1.0110 - val_accuracy: 0.5769\n",
      "Epoch 50/200\n",
      "4/4 [==============================] - 0s 9ms/step - loss: 0.4225 - accuracy: 0.8137 - val_loss: 0.9558 - val_accuracy: 0.6538\n",
      "Epoch 51/200\n",
      "4/4 [==============================] - 0s 9ms/step - loss: 0.4266 - accuracy: 0.8235 - val_loss: 1.1481 - val_accuracy: 0.5769\n",
      "Epoch 52/200\n"
     ]
    },
    {
     "name": "stdout",
     "output_type": "stream",
     "text": [
      "4/4 [==============================] - 0s 9ms/step - loss: 0.3880 - accuracy: 0.8627 - val_loss: 0.9555 - val_accuracy: 0.6923\n",
      "Epoch 53/200\n",
      "4/4 [==============================] - 0s 10ms/step - loss: 0.5304 - accuracy: 0.7745 - val_loss: 0.9841 - val_accuracy: 0.5385\n",
      "Epoch 54/200\n",
      "4/4 [==============================] - 0s 12ms/step - loss: 0.4741 - accuracy: 0.8039 - val_loss: 1.5112 - val_accuracy: 0.5000\n",
      "Epoch 55/200\n",
      "4/4 [==============================] - 0s 14ms/step - loss: 0.5583 - accuracy: 0.7451 - val_loss: 1.0388 - val_accuracy: 0.5385\n",
      "Epoch 56/200\n",
      "4/4 [==============================] - 0s 13ms/step - loss: 0.4552 - accuracy: 0.8039 - val_loss: 0.9244 - val_accuracy: 0.6923\n",
      "Epoch 57/200\n",
      "4/4 [==============================] - 0s 13ms/step - loss: 0.3934 - accuracy: 0.8235 - val_loss: 1.1343 - val_accuracy: 0.5385\n",
      "Epoch 58/200\n",
      "4/4 [==============================] - 0s 13ms/step - loss: 0.4303 - accuracy: 0.7941 - val_loss: 1.0202 - val_accuracy: 0.5385\n",
      "Epoch 59/200\n",
      "4/4 [==============================] - 0s 12ms/step - loss: 0.4094 - accuracy: 0.8137 - val_loss: 1.0153 - val_accuracy: 0.6538\n",
      "Epoch 60/200\n",
      "4/4 [==============================] - 0s 12ms/step - loss: 0.3657 - accuracy: 0.8725 - val_loss: 1.0142 - val_accuracy: 0.6154\n",
      "Epoch 61/200\n",
      "4/4 [==============================] - 0s 11ms/step - loss: 0.3571 - accuracy: 0.8725 - val_loss: 1.0515 - val_accuracy: 0.5769\n",
      "Epoch 62/200\n",
      "4/4 [==============================] - 0s 10ms/step - loss: 0.3332 - accuracy: 0.8529 - val_loss: 1.0261 - val_accuracy: 0.6154\n",
      "Epoch 63/200\n",
      "4/4 [==============================] - 0s 9ms/step - loss: 0.3330 - accuracy: 0.8824 - val_loss: 1.0318 - val_accuracy: 0.5769\n",
      "Epoch 64/200\n",
      "4/4 [==============================] - 0s 9ms/step - loss: 0.3088 - accuracy: 0.8824 - val_loss: 1.0397 - val_accuracy: 0.6923\n",
      "Epoch 65/200\n",
      "4/4 [==============================] - 0s 9ms/step - loss: 0.3441 - accuracy: 0.8824 - val_loss: 1.0281 - val_accuracy: 0.6923\n",
      "Epoch 66/200\n",
      "4/4 [==============================] - 0s 9ms/step - loss: 0.3230 - accuracy: 0.8922 - val_loss: 1.0863 - val_accuracy: 0.6154\n",
      "Epoch 67/200\n",
      "4/4 [==============================] - 0s 9ms/step - loss: 0.2987 - accuracy: 0.8627 - val_loss: 1.0667 - val_accuracy: 0.6154\n",
      "Epoch 68/200\n",
      "4/4 [==============================] - 0s 9ms/step - loss: 0.2911 - accuracy: 0.9020 - val_loss: 1.0730 - val_accuracy: 0.6154\n",
      "Epoch 69/200\n",
      "4/4 [==============================] - 0s 11ms/step - loss: 0.2817 - accuracy: 0.8922 - val_loss: 1.0985 - val_accuracy: 0.6154\n",
      "Epoch 70/200\n",
      "4/4 [==============================] - 0s 12ms/step - loss: 0.2730 - accuracy: 0.9020 - val_loss: 1.1249 - val_accuracy: 0.5769\n",
      "Epoch 71/200\n",
      "4/4 [==============================] - 0s 12ms/step - loss: 0.2695 - accuracy: 0.9020 - val_loss: 1.1765 - val_accuracy: 0.5769\n",
      "Epoch 72/200\n",
      "4/4 [==============================] - 0s 13ms/step - loss: 0.2733 - accuracy: 0.9020 - val_loss: 1.1813 - val_accuracy: 0.5769\n",
      "Epoch 73/200\n",
      "4/4 [==============================] - 0s 13ms/step - loss: 0.2582 - accuracy: 0.9118 - val_loss: 1.1427 - val_accuracy: 0.6538\n",
      "Epoch 74/200\n",
      "4/4 [==============================] - 0s 14ms/step - loss: 0.2656 - accuracy: 0.9020 - val_loss: 1.1785 - val_accuracy: 0.6154\n",
      "Epoch 75/200\n",
      "4/4 [==============================] - 0s 14ms/step - loss: 0.2504 - accuracy: 0.9216 - val_loss: 1.0801 - val_accuracy: 0.6923\n",
      "Epoch 76/200\n",
      "4/4 [==============================] - 0s 15ms/step - loss: 0.2575 - accuracy: 0.9020 - val_loss: 1.1503 - val_accuracy: 0.6154\n",
      "Epoch 77/200\n",
      "4/4 [==============================] - 0s 13ms/step - loss: 0.2302 - accuracy: 0.9020 - val_loss: 1.2376 - val_accuracy: 0.6538\n",
      "Epoch 78/200\n",
      "4/4 [==============================] - 0s 14ms/step - loss: 0.2385 - accuracy: 0.9020 - val_loss: 1.3020 - val_accuracy: 0.5769\n",
      "Epoch 79/200\n",
      "4/4 [==============================] - 0s 13ms/step - loss: 0.2310 - accuracy: 0.9118 - val_loss: 1.3080 - val_accuracy: 0.5769\n",
      "Epoch 80/200\n",
      "4/4 [==============================] - 0s 12ms/step - loss: 0.2247 - accuracy: 0.8922 - val_loss: 1.2324 - val_accuracy: 0.6154\n",
      "Epoch 81/200\n",
      "4/4 [==============================] - 0s 11ms/step - loss: 0.2118 - accuracy: 0.9314 - val_loss: 1.1888 - val_accuracy: 0.6538\n",
      "1/1 [==============================] - 0s 52ms/step\n",
      "4/4 [==============================] - 0s 1ms/step\n",
      "1/1 [==============================] - 0s 19ms/step - loss: 1.1888 - accuracy: 0.6538\n",
      "4/4 [==============================] - 0s 2ms/step - loss: 0.2056 - accuracy: 0.9118\n",
      "Epoch 1/200\n",
      "4/4 [==============================] - 1s 66ms/step - loss: 1.0870 - accuracy: 0.3981 - val_loss: 0.9221 - val_accuracy: 0.6400\n",
      "Epoch 2/200\n",
      "4/4 [==============================] - 0s 11ms/step - loss: 0.9857 - accuracy: 0.5534 - val_loss: 0.8090 - val_accuracy: 0.6800\n",
      "Epoch 3/200\n",
      "4/4 [==============================] - 0s 11ms/step - loss: 0.9133 - accuracy: 0.6019 - val_loss: 0.7409 - val_accuracy: 0.7200\n",
      "Epoch 4/200\n",
      "4/4 [==============================] - 0s 12ms/step - loss: 0.8525 - accuracy: 0.6408 - val_loss: 0.7164 - val_accuracy: 0.6800\n",
      "Epoch 5/200\n",
      "4/4 [==============================] - 0s 11ms/step - loss: 0.8117 - accuracy: 0.6019 - val_loss: 0.6170 - val_accuracy: 0.7200\n",
      "Epoch 6/200\n",
      "4/4 [==============================] - 0s 10ms/step - loss: 0.8136 - accuracy: 0.6019 - val_loss: 0.6300 - val_accuracy: 0.7200\n",
      "Epoch 7/200\n",
      "4/4 [==============================] - 0s 11ms/step - loss: 0.7602 - accuracy: 0.6311 - val_loss: 0.7567 - val_accuracy: 0.6400\n",
      "Epoch 8/200\n",
      "4/4 [==============================] - 0s 12ms/step - loss: 0.8166 - accuracy: 0.6019 - val_loss: 0.7256 - val_accuracy: 0.6400\n",
      "Epoch 9/200\n",
      "4/4 [==============================] - 0s 11ms/step - loss: 0.7656 - accuracy: 0.6117 - val_loss: 0.6091 - val_accuracy: 0.6800\n",
      "Epoch 10/200\n",
      "4/4 [==============================] - 0s 12ms/step - loss: 0.7874 - accuracy: 0.6019 - val_loss: 0.6325 - val_accuracy: 0.6800\n",
      "Epoch 11/200\n",
      "4/4 [==============================] - 0s 11ms/step - loss: 0.7320 - accuracy: 0.6408 - val_loss: 0.7718 - val_accuracy: 0.6400\n",
      "Epoch 12/200\n",
      "4/4 [==============================] - 0s 11ms/step - loss: 0.7963 - accuracy: 0.6311 - val_loss: 0.7457 - val_accuracy: 0.6400\n",
      "Epoch 13/200\n",
      "4/4 [==============================] - 0s 11ms/step - loss: 0.7317 - accuracy: 0.6602 - val_loss: 0.6001 - val_accuracy: 0.6800\n",
      "Epoch 14/200\n",
      "4/4 [==============================] - 0s 11ms/step - loss: 0.7533 - accuracy: 0.6214 - val_loss: 0.5950 - val_accuracy: 0.7200\n",
      "Epoch 15/200\n",
      "4/4 [==============================] - 0s 11ms/step - loss: 0.7558 - accuracy: 0.6505 - val_loss: 0.7010 - val_accuracy: 0.6800\n",
      "Epoch 16/200\n",
      "4/4 [==============================] - 0s 10ms/step - loss: 0.7481 - accuracy: 0.6699 - val_loss: 0.7251 - val_accuracy: 0.6400\n",
      "Epoch 17/200\n",
      "4/4 [==============================] - 0s 11ms/step - loss: 0.7176 - accuracy: 0.6796 - val_loss: 0.6595 - val_accuracy: 0.6800\n",
      "Epoch 18/200\n",
      "4/4 [==============================] - 0s 11ms/step - loss: 0.7099 - accuracy: 0.6990 - val_loss: 0.6383 - val_accuracy: 0.7200\n",
      "Epoch 19/200\n",
      "4/4 [==============================] - 0s 11ms/step - loss: 0.7022 - accuracy: 0.6893 - val_loss: 0.6690 - val_accuracy: 0.6800\n",
      "Epoch 20/200\n",
      "4/4 [==============================] - 0s 11ms/step - loss: 0.7025 - accuracy: 0.6893 - val_loss: 0.6409 - val_accuracy: 0.7200\n",
      "Epoch 21/200\n",
      "4/4 [==============================] - 0s 11ms/step - loss: 0.6914 - accuracy: 0.6505 - val_loss: 0.6417 - val_accuracy: 0.7200\n",
      "Epoch 22/200\n",
      "4/4 [==============================] - 0s 11ms/step - loss: 0.6772 - accuracy: 0.7184 - val_loss: 0.6806 - val_accuracy: 0.6800\n",
      "Epoch 23/200\n",
      "4/4 [==============================] - 0s 10ms/step - loss: 0.6761 - accuracy: 0.7476 - val_loss: 0.6540 - val_accuracy: 0.7200\n",
      "Epoch 24/200\n",
      "4/4 [==============================] - 0s 10ms/step - loss: 0.6637 - accuracy: 0.6990 - val_loss: 0.6817 - val_accuracy: 0.6800\n",
      "Epoch 25/200\n",
      "4/4 [==============================] - 0s 10ms/step - loss: 0.6854 - accuracy: 0.6796 - val_loss: 0.7351 - val_accuracy: 0.6400\n",
      "Epoch 26/200\n",
      "4/4 [==============================] - 0s 10ms/step - loss: 0.6593 - accuracy: 0.7282 - val_loss: 0.6484 - val_accuracy: 0.6800\n",
      "Epoch 27/200\n",
      "4/4 [==============================] - 0s 10ms/step - loss: 0.6964 - accuracy: 0.6505 - val_loss: 0.6236 - val_accuracy: 0.6000\n",
      "Epoch 28/200\n",
      "4/4 [==============================] - 0s 11ms/step - loss: 0.6525 - accuracy: 0.6796 - val_loss: 0.7575 - val_accuracy: 0.6400\n",
      "Epoch 29/200\n",
      "4/4 [==============================] - 0s 10ms/step - loss: 0.6716 - accuracy: 0.6602 - val_loss: 0.7560 - val_accuracy: 0.6400\n",
      "Epoch 30/200\n",
      "4/4 [==============================] - 0s 10ms/step - loss: 0.6278 - accuracy: 0.7087 - val_loss: 0.6195 - val_accuracy: 0.7200\n",
      "Epoch 31/200\n",
      "4/4 [==============================] - 0s 10ms/step - loss: 0.7111 - accuracy: 0.6505 - val_loss: 0.6197 - val_accuracy: 0.7200\n",
      "Epoch 32/200\n",
      "4/4 [==============================] - 0s 9ms/step - loss: 0.6226 - accuracy: 0.7184 - val_loss: 0.7567 - val_accuracy: 0.6400\n",
      "Epoch 33/200\n",
      "4/4 [==============================] - 0s 9ms/step - loss: 0.6314 - accuracy: 0.6893 - val_loss: 0.7478 - val_accuracy: 0.6400\n",
      "Epoch 34/200\n",
      "4/4 [==============================] - 0s 9ms/step - loss: 0.6155 - accuracy: 0.7282 - val_loss: 0.6207 - val_accuracy: 0.7200\n",
      "Epoch 35/200\n",
      "4/4 [==============================] - 0s 10ms/step - loss: 0.6276 - accuracy: 0.6602 - val_loss: 0.6985 - val_accuracy: 0.7200\n",
      "Epoch 36/200\n",
      "4/4 [==============================] - 0s 10ms/step - loss: 0.6064 - accuracy: 0.7767 - val_loss: 0.7298 - val_accuracy: 0.6400\n",
      "Epoch 37/200\n",
      "4/4 [==============================] - 0s 10ms/step - loss: 0.6001 - accuracy: 0.7282 - val_loss: 0.7282 - val_accuracy: 0.6400\n",
      "Epoch 38/200\n",
      "4/4 [==============================] - 0s 9ms/step - loss: 0.5733 - accuracy: 0.7767 - val_loss: 0.6560 - val_accuracy: 0.7200\n",
      "Epoch 39/200\n",
      "4/4 [==============================] - 0s 9ms/step - loss: 0.5813 - accuracy: 0.7184 - val_loss: 0.6469 - val_accuracy: 0.7200\n",
      "Epoch 40/200\n",
      "4/4 [==============================] - 0s 9ms/step - loss: 0.5559 - accuracy: 0.7573 - val_loss: 0.7988 - val_accuracy: 0.6400\n",
      "Epoch 41/200\n",
      "4/4 [==============================] - 0s 10ms/step - loss: 0.5893 - accuracy: 0.7379 - val_loss: 0.7585 - val_accuracy: 0.6400\n",
      "Epoch 42/200\n",
      "4/4 [==============================] - 0s 10ms/step - loss: 0.5684 - accuracy: 0.7573 - val_loss: 0.6605 - val_accuracy: 0.7200\n",
      "Epoch 43/200\n",
      "4/4 [==============================] - 0s 9ms/step - loss: 0.5583 - accuracy: 0.7767 - val_loss: 0.7321 - val_accuracy: 0.6400\n",
      "Epoch 44/200\n",
      "4/4 [==============================] - 0s 9ms/step - loss: 0.5604 - accuracy: 0.7087 - val_loss: 0.6709 - val_accuracy: 0.6800\n",
      "Epoch 45/200\n",
      "4/4 [==============================] - 0s 9ms/step - loss: 0.5506 - accuracy: 0.7282 - val_loss: 0.7107 - val_accuracy: 0.6400\n",
      "Epoch 46/200\n",
      "4/4 [==============================] - 0s 9ms/step - loss: 0.5451 - accuracy: 0.7670 - val_loss: 0.8213 - val_accuracy: 0.6400\n",
      "Epoch 47/200\n",
      "4/4 [==============================] - 0s 9ms/step - loss: 0.5447 - accuracy: 0.7767 - val_loss: 0.7005 - val_accuracy: 0.7200\n",
      "Epoch 48/200\n",
      "4/4 [==============================] - 0s 9ms/step - loss: 0.5133 - accuracy: 0.7573 - val_loss: 0.6922 - val_accuracy: 0.7200\n",
      "Epoch 49/200\n",
      "4/4 [==============================] - 0s 9ms/step - loss: 0.5126 - accuracy: 0.7864 - val_loss: 0.7650 - val_accuracy: 0.6400\n",
      "Epoch 50/200\n",
      "4/4 [==============================] - 0s 9ms/step - loss: 0.5069 - accuracy: 0.7864 - val_loss: 0.6569 - val_accuracy: 0.7200\n",
      "Epoch 51/200\n",
      "4/4 [==============================] - 0s 9ms/step - loss: 0.5200 - accuracy: 0.7379 - val_loss: 0.6989 - val_accuracy: 0.6800\n",
      "Epoch 52/200\n",
      "4/4 [==============================] - 0s 9ms/step - loss: 0.4951 - accuracy: 0.7767 - val_loss: 0.8087 - val_accuracy: 0.6400\n",
      "Epoch 53/200\n",
      "4/4 [==============================] - 0s 9ms/step - loss: 0.4999 - accuracy: 0.7864 - val_loss: 0.7332 - val_accuracy: 0.6800\n",
      "Epoch 54/200\n",
      "4/4 [==============================] - 0s 9ms/step - loss: 0.4823 - accuracy: 0.7864 - val_loss: 0.6307 - val_accuracy: 0.7200\n",
      "Epoch 55/200\n",
      "4/4 [==============================] - 0s 9ms/step - loss: 0.4649 - accuracy: 0.7767 - val_loss: 0.7085 - val_accuracy: 0.6800\n",
      "Epoch 56/200\n",
      "4/4 [==============================] - 0s 9ms/step - loss: 0.5215 - accuracy: 0.7864 - val_loss: 0.7433 - val_accuracy: 0.6400\n",
      "Epoch 57/200\n",
      "4/4 [==============================] - 0s 9ms/step - loss: 0.4866 - accuracy: 0.7864 - val_loss: 0.6429 - val_accuracy: 0.6800\n",
      "Epoch 58/200\n",
      "4/4 [==============================] - 0s 9ms/step - loss: 0.5142 - accuracy: 0.7961 - val_loss: 0.7518 - val_accuracy: 0.6400\n",
      "Epoch 59/200\n",
      "4/4 [==============================] - 0s 9ms/step - loss: 0.4785 - accuracy: 0.8544 - val_loss: 0.7744 - val_accuracy: 0.7200\n",
      "Epoch 60/200\n",
      "4/4 [==============================] - 0s 9ms/step - loss: 0.4499 - accuracy: 0.8447 - val_loss: 0.6546 - val_accuracy: 0.7200\n",
      "Epoch 61/200\n",
      "4/4 [==============================] - 0s 10ms/step - loss: 0.4833 - accuracy: 0.7476 - val_loss: 0.6744 - val_accuracy: 0.7200\n",
      "Epoch 62/200\n",
      "4/4 [==============================] - 0s 12ms/step - loss: 0.4498 - accuracy: 0.8058 - val_loss: 0.8675 - val_accuracy: 0.6400\n",
      "Epoch 63/200\n",
      "4/4 [==============================] - 0s 12ms/step - loss: 0.4421 - accuracy: 0.8252 - val_loss: 0.6999 - val_accuracy: 0.6800\n",
      "Epoch 64/200\n",
      "4/4 [==============================] - 0s 12ms/step - loss: 0.4108 - accuracy: 0.8155 - val_loss: 0.6774 - val_accuracy: 0.7600\n",
      "1/1 [==============================] - 0s 48ms/step\n",
      "4/4 [==============================] - 0s 1ms/step\n",
      "1/1 [==============================] - 0s 28ms/step - loss: 0.6774 - accuracy: 0.7600\n",
      "4/4 [==============================] - 0s 3ms/step - loss: 0.4179 - accuracy: 0.8252\n",
      "Epoch 1/200\n",
      "4/4 [==============================] - 1s 51ms/step - loss: 1.0725 - accuracy: 0.4563 - val_loss: 1.0661 - val_accuracy: 0.4400\n",
      "Epoch 2/200\n",
      "4/4 [==============================] - 0s 10ms/step - loss: 0.9643 - accuracy: 0.6117 - val_loss: 1.0869 - val_accuracy: 0.4800\n",
      "Epoch 3/200\n",
      "4/4 [==============================] - 0s 10ms/step - loss: 0.8851 - accuracy: 0.6117 - val_loss: 1.0923 - val_accuracy: 0.4800\n",
      "Epoch 4/200\n",
      "4/4 [==============================] - 0s 11ms/step - loss: 0.8521 - accuracy: 0.6117 - val_loss: 1.0960 - val_accuracy: 0.4800\n",
      "Epoch 5/200\n",
      "4/4 [==============================] - 0s 10ms/step - loss: 0.8055 - accuracy: 0.6699 - val_loss: 1.0940 - val_accuracy: 0.5200\n",
      "Epoch 6/200\n",
      "4/4 [==============================] - 0s 10ms/step - loss: 0.7896 - accuracy: 0.6311 - val_loss: 1.0224 - val_accuracy: 0.4800\n",
      "Epoch 7/200\n",
      "4/4 [==============================] - 0s 10ms/step - loss: 0.7657 - accuracy: 0.6602 - val_loss: 0.9710 - val_accuracy: 0.6000\n",
      "Epoch 8/200\n",
      "4/4 [==============================] - 0s 10ms/step - loss: 0.7465 - accuracy: 0.6796 - val_loss: 0.9234 - val_accuracy: 0.4800\n",
      "Epoch 9/200\n",
      "4/4 [==============================] - 0s 10ms/step - loss: 0.7140 - accuracy: 0.6602 - val_loss: 0.9474 - val_accuracy: 0.5200\n",
      "Epoch 10/200\n",
      "4/4 [==============================] - 0s 10ms/step - loss: 0.7409 - accuracy: 0.6893 - val_loss: 0.9023 - val_accuracy: 0.4800\n",
      "Epoch 11/200\n",
      "4/4 [==============================] - 0s 10ms/step - loss: 0.6930 - accuracy: 0.6602 - val_loss: 0.9138 - val_accuracy: 0.6000\n",
      "Epoch 12/200\n",
      "4/4 [==============================] - 0s 10ms/step - loss: 0.7330 - accuracy: 0.6796 - val_loss: 0.9905 - val_accuracy: 0.5600\n",
      "Epoch 13/200\n",
      "4/4 [==============================] - 0s 9ms/step - loss: 0.7284 - accuracy: 0.6893 - val_loss: 0.9878 - val_accuracy: 0.4800\n",
      "Epoch 14/200\n",
      "4/4 [==============================] - 0s 10ms/step - loss: 0.6892 - accuracy: 0.6893 - val_loss: 0.9378 - val_accuracy: 0.5200\n",
      "Epoch 15/200\n",
      "4/4 [==============================] - 0s 9ms/step - loss: 0.6748 - accuracy: 0.6893 - val_loss: 0.9005 - val_accuracy: 0.5200\n",
      "Epoch 16/200\n",
      "4/4 [==============================] - 0s 9ms/step - loss: 0.6693 - accuracy: 0.6699 - val_loss: 0.9150 - val_accuracy: 0.5200\n",
      "Epoch 17/200\n",
      "4/4 [==============================] - 0s 9ms/step - loss: 0.6614 - accuracy: 0.6893 - val_loss: 0.8985 - val_accuracy: 0.4800\n",
      "Epoch 18/200\n",
      "4/4 [==============================] - 0s 10ms/step - loss: 0.6442 - accuracy: 0.6796 - val_loss: 0.9281 - val_accuracy: 0.5200\n",
      "Epoch 19/200\n"
     ]
    },
    {
     "name": "stdout",
     "output_type": "stream",
     "text": [
      "4/4 [==============================] - 0s 10ms/step - loss: 0.6425 - accuracy: 0.6699 - val_loss: 0.9851 - val_accuracy: 0.4800\n",
      "Epoch 20/200\n",
      "4/4 [==============================] - 0s 10ms/step - loss: 0.6410 - accuracy: 0.6990 - val_loss: 0.9739 - val_accuracy: 0.4800\n",
      "Epoch 21/200\n",
      "4/4 [==============================] - 0s 10ms/step - loss: 0.6312 - accuracy: 0.7087 - val_loss: 0.8859 - val_accuracy: 0.4800\n",
      "Epoch 22/200\n",
      "4/4 [==============================] - 0s 10ms/step - loss: 0.6252 - accuracy: 0.7184 - val_loss: 0.8766 - val_accuracy: 0.6000\n",
      "Epoch 23/200\n",
      "4/4 [==============================] - 0s 10ms/step - loss: 0.6329 - accuracy: 0.7282 - val_loss: 0.8953 - val_accuracy: 0.5200\n",
      "Epoch 24/200\n",
      "4/4 [==============================] - 0s 9ms/step - loss: 0.6055 - accuracy: 0.7282 - val_loss: 0.9626 - val_accuracy: 0.5600\n",
      "Epoch 25/200\n",
      "4/4 [==============================] - 0s 9ms/step - loss: 0.5966 - accuracy: 0.7476 - val_loss: 0.9599 - val_accuracy: 0.5600\n",
      "Epoch 26/200\n",
      "4/4 [==============================] - 0s 10ms/step - loss: 0.5933 - accuracy: 0.7379 - val_loss: 0.8670 - val_accuracy: 0.6000\n",
      "Epoch 27/200\n",
      "4/4 [==============================] - 0s 10ms/step - loss: 0.5876 - accuracy: 0.7379 - val_loss: 0.9134 - val_accuracy: 0.5200\n",
      "Epoch 28/200\n",
      "4/4 [==============================] - 0s 10ms/step - loss: 0.5748 - accuracy: 0.7282 - val_loss: 0.9390 - val_accuracy: 0.5200\n",
      "Epoch 29/200\n",
      "4/4 [==============================] - 0s 10ms/step - loss: 0.5533 - accuracy: 0.7670 - val_loss: 0.9566 - val_accuracy: 0.5600\n",
      "Epoch 30/200\n",
      "4/4 [==============================] - 0s 10ms/step - loss: 0.5469 - accuracy: 0.7670 - val_loss: 1.1122 - val_accuracy: 0.4800\n",
      "Epoch 31/200\n",
      "4/4 [==============================] - 0s 10ms/step - loss: 0.5465 - accuracy: 0.7379 - val_loss: 1.2255 - val_accuracy: 0.5200\n",
      "Epoch 32/200\n",
      "4/4 [==============================] - 0s 10ms/step - loss: 0.5385 - accuracy: 0.7476 - val_loss: 1.1879 - val_accuracy: 0.5200\n",
      "Epoch 33/200\n",
      "4/4 [==============================] - 0s 10ms/step - loss: 0.5251 - accuracy: 0.7573 - val_loss: 1.0151 - val_accuracy: 0.6000\n",
      "Epoch 34/200\n",
      "4/4 [==============================] - 0s 10ms/step - loss: 0.5020 - accuracy: 0.7864 - val_loss: 1.1116 - val_accuracy: 0.5200\n",
      "Epoch 35/200\n",
      "4/4 [==============================] - 0s 10ms/step - loss: 0.4927 - accuracy: 0.7573 - val_loss: 1.1444 - val_accuracy: 0.4800\n",
      "Epoch 36/200\n",
      "4/4 [==============================] - 0s 9ms/step - loss: 0.4889 - accuracy: 0.7767 - val_loss: 1.1454 - val_accuracy: 0.4800\n",
      "Epoch 37/200\n",
      "4/4 [==============================] - 0s 9ms/step - loss: 0.4860 - accuracy: 0.7864 - val_loss: 1.2765 - val_accuracy: 0.4800\n",
      "Epoch 38/200\n",
      "4/4 [==============================] - 0s 9ms/step - loss: 0.4648 - accuracy: 0.7961 - val_loss: 1.3023 - val_accuracy: 0.4800\n",
      "Epoch 39/200\n",
      "4/4 [==============================] - 0s 10ms/step - loss: 0.4716 - accuracy: 0.7767 - val_loss: 1.1663 - val_accuracy: 0.5200\n",
      "Epoch 40/200\n",
      "4/4 [==============================] - 0s 10ms/step - loss: 0.4483 - accuracy: 0.7767 - val_loss: 1.0684 - val_accuracy: 0.4400\n",
      "Epoch 41/200\n",
      "4/4 [==============================] - 0s 10ms/step - loss: 0.4462 - accuracy: 0.8350 - val_loss: 1.2402 - val_accuracy: 0.4800\n",
      "Epoch 42/200\n",
      "4/4 [==============================] - 0s 10ms/step - loss: 0.4482 - accuracy: 0.7864 - val_loss: 1.4299 - val_accuracy: 0.5600\n",
      "Epoch 43/200\n",
      "4/4 [==============================] - 0s 9ms/step - loss: 0.4337 - accuracy: 0.7864 - val_loss: 1.3371 - val_accuracy: 0.4400\n",
      "Epoch 44/200\n",
      "4/4 [==============================] - 0s 9ms/step - loss: 0.4277 - accuracy: 0.7864 - val_loss: 1.3780 - val_accuracy: 0.5600\n",
      "Epoch 45/200\n",
      "4/4 [==============================] - 0s 9ms/step - loss: 0.4984 - accuracy: 0.7476 - val_loss: 1.3197 - val_accuracy: 0.4400\n",
      "Epoch 46/200\n",
      "4/4 [==============================] - 0s 9ms/step - loss: 0.4190 - accuracy: 0.8252 - val_loss: 1.5697 - val_accuracy: 0.4800\n",
      "Epoch 47/200\n",
      "4/4 [==============================] - 0s 10ms/step - loss: 0.4416 - accuracy: 0.7961 - val_loss: 1.4102 - val_accuracy: 0.4400\n",
      "Epoch 48/200\n",
      "4/4 [==============================] - 0s 10ms/step - loss: 0.4073 - accuracy: 0.8350 - val_loss: 1.1702 - val_accuracy: 0.4400\n",
      "Epoch 49/200\n",
      "4/4 [==============================] - 0s 10ms/step - loss: 0.4032 - accuracy: 0.8252 - val_loss: 1.3525 - val_accuracy: 0.4400\n",
      "Epoch 50/200\n",
      "4/4 [==============================] - 0s 11ms/step - loss: 0.4009 - accuracy: 0.8252 - val_loss: 1.5622 - val_accuracy: 0.4000\n",
      "Epoch 51/200\n",
      "4/4 [==============================] - 0s 10ms/step - loss: 0.3703 - accuracy: 0.8252 - val_loss: 1.7663 - val_accuracy: 0.4800\n",
      "Epoch 52/200\n",
      "4/4 [==============================] - 0s 11ms/step - loss: 0.3830 - accuracy: 0.8155 - val_loss: 1.7404 - val_accuracy: 0.4400\n",
      "Epoch 53/200\n",
      "4/4 [==============================] - 0s 10ms/step - loss: 0.3954 - accuracy: 0.8155 - val_loss: 1.5994 - val_accuracy: 0.6000\n",
      "Epoch 54/200\n",
      "4/4 [==============================] - 0s 10ms/step - loss: 0.4057 - accuracy: 0.8155 - val_loss: 1.5248 - val_accuracy: 0.5600\n",
      "Epoch 55/200\n",
      "4/4 [==============================] - 0s 11ms/step - loss: 0.3472 - accuracy: 0.8447 - val_loss: 1.7026 - val_accuracy: 0.4800\n",
      "Epoch 56/200\n",
      "4/4 [==============================] - 0s 11ms/step - loss: 0.3634 - accuracy: 0.8350 - val_loss: 1.7681 - val_accuracy: 0.6000\n",
      "Epoch 57/200\n",
      "4/4 [==============================] - 0s 10ms/step - loss: 0.5582 - accuracy: 0.7476 - val_loss: 1.5093 - val_accuracy: 0.4800\n",
      "Epoch 58/200\n",
      "4/4 [==============================] - 0s 10ms/step - loss: 0.4969 - accuracy: 0.7961 - val_loss: 1.5815 - val_accuracy: 0.4000\n",
      "Epoch 59/200\n",
      "4/4 [==============================] - 0s 10ms/step - loss: 0.3863 - accuracy: 0.8058 - val_loss: 1.8202 - val_accuracy: 0.6400\n",
      "Epoch 60/200\n",
      "4/4 [==============================] - 0s 10ms/step - loss: 0.5149 - accuracy: 0.7282 - val_loss: 1.4108 - val_accuracy: 0.4000\n",
      "Epoch 61/200\n",
      "4/4 [==============================] - 0s 10ms/step - loss: 0.3648 - accuracy: 0.8544 - val_loss: 1.3475 - val_accuracy: 0.4000\n",
      "Epoch 62/200\n",
      "4/4 [==============================] - 0s 10ms/step - loss: 0.3889 - accuracy: 0.8155 - val_loss: 1.5385 - val_accuracy: 0.4000\n",
      "Epoch 63/200\n",
      "4/4 [==============================] - 0s 10ms/step - loss: 0.3916 - accuracy: 0.8447 - val_loss: 1.5864 - val_accuracy: 0.4800\n",
      "Epoch 64/200\n",
      "4/4 [==============================] - 0s 10ms/step - loss: 0.3422 - accuracy: 0.8544 - val_loss: 1.6818 - val_accuracy: 0.4000\n",
      "Epoch 65/200\n",
      "4/4 [==============================] - 0s 9ms/step - loss: 0.4169 - accuracy: 0.8155 - val_loss: 1.7937 - val_accuracy: 0.5200\n",
      "Epoch 66/200\n",
      "4/4 [==============================] - 0s 9ms/step - loss: 0.3143 - accuracy: 0.8350 - val_loss: 1.8661 - val_accuracy: 0.4800\n",
      "Epoch 67/200\n",
      "4/4 [==============================] - 0s 9ms/step - loss: 0.3531 - accuracy: 0.8155 - val_loss: 1.6397 - val_accuracy: 0.4400\n",
      "Epoch 68/200\n",
      "4/4 [==============================] - 0s 10ms/step - loss: 0.3206 - accuracy: 0.8835 - val_loss: 1.4991 - val_accuracy: 0.4400\n",
      "Epoch 69/200\n",
      "4/4 [==============================] - 0s 10ms/step - loss: 0.3552 - accuracy: 0.8252 - val_loss: 1.4737 - val_accuracy: 0.5600\n",
      "Epoch 70/200\n",
      "4/4 [==============================] - 0s 10ms/step - loss: 0.2942 - accuracy: 0.9126 - val_loss: 1.4195 - val_accuracy: 0.3600\n",
      "Epoch 71/200\n",
      "4/4 [==============================] - 0s 10ms/step - loss: 0.3766 - accuracy: 0.8544 - val_loss: 1.3773 - val_accuracy: 0.5200\n",
      "Epoch 72/200\n",
      "4/4 [==============================] - 0s 10ms/step - loss: 0.3335 - accuracy: 0.8835 - val_loss: 1.7066 - val_accuracy: 0.6000\n",
      "Epoch 73/200\n",
      "4/4 [==============================] - 0s 10ms/step - loss: 0.2846 - accuracy: 0.8641 - val_loss: 2.0767 - val_accuracy: 0.5200\n",
      "Epoch 74/200\n",
      "4/4 [==============================] - 0s 11ms/step - loss: 0.3617 - accuracy: 0.8350 - val_loss: 1.7697 - val_accuracy: 0.4000\n",
      "Epoch 75/200\n",
      "4/4 [==============================] - 0s 10ms/step - loss: 0.2801 - accuracy: 0.9320 - val_loss: 1.7737 - val_accuracy: 0.6400\n",
      "Epoch 76/200\n",
      "4/4 [==============================] - 0s 10ms/step - loss: 0.3223 - accuracy: 0.8835 - val_loss: 1.7941 - val_accuracy: 0.4800\n",
      "1/1 [==============================] - 0s 52ms/step\n",
      "4/4 [==============================] - 0s 1ms/step\n",
      "1/1 [==============================] - 0s 19ms/step - loss: 1.7941 - accuracy: 0.4800\n",
      "4/4 [==============================] - 0s 2ms/step - loss: 0.2639 - accuracy: 0.9029\n"
     ]
    },
    {
     "data": {
      "text/plain": [
       "-1.012369066476822"
      ]
     },
     "execution_count": 14,
     "metadata": {},
     "output_type": "execute_result"
    }
   ],
   "source": [
    "example_individual.get_score()\n",
    "example_individual.score"
   ]
  },
  {
   "cell_type": "markdown",
   "metadata": {},
   "source": [
    "Breeding two individuals to create a child. Mutation is automatically performed during this"
   ]
  },
  {
   "cell_type": "code",
   "execution_count": 12,
   "metadata": {},
   "outputs": [
    {
     "name": "stdout",
     "output_type": "stream",
     "text": [
      "Breeding Individual(['[36, 22, 44, 0.43]', '[71, 78, 79, 1.54]']) with Individual(['[36, 22, 44, 0.43]', '[71, 78, 79, 1.54]'])\n",
      "Created child Individual(['[36, 22, 1, 0.43]', '[89, 64, 79, 1.54]'])\n"
     ]
    }
   ],
   "source": [
    "example_individual_two = Individual(gene_set_list)\n",
    "print(f\"Breeding {example_individual} with {example_individual_two}\")\n",
    "child = breed_individuals(example_individual, example_individual_two)\n",
    "print(f\"Created child {child}\")"
   ]
  },
  {
   "cell_type": "markdown",
   "metadata": {},
   "source": [
    "## Population"
   ]
  },
  {
   "cell_type": "markdown",
   "metadata": {},
   "source": [
    "A Population is a collection of Individual classes. This can be created using a list of GeneParameter classes"
   ]
  },
  {
   "cell_type": "code",
   "execution_count": 13,
   "metadata": {},
   "outputs": [
    {
     "data": {
      "text/plain": [
       "Population(4, 2, 12, 4, [GeneParameters(lower=1, upper=50, centres='{8, 7, 6, 1, 16, 17, 9}', neighbours='{8, 7, 6, 1, 16, 17, 9}', mu=0, mu_hat=0, nu=2, nu_hat=0, mutation_chance=0.5, min_cutoff=1, max_cutoff=50, min_sigma=0.1, max_sigma=0.9, message_steps=0), GeneParameters(lower=51, upper=100, centres='{8, 7, 6, 1, 16, 17, 9}', neighbours='{8, 7, 6, 1, 16, 17, 9}', mu=0, mu_hat=0, nu=2, nu_hat=0, mutation_chance=0.5, min_cutoff=51, max_cutoff=100, min_sigma=1.1, max_sigma=1.9, message_steps=0)], True)"
      ]
     },
     "execution_count": 13,
     "metadata": {},
     "output_type": "execute_result"
    }
   ],
   "source": [
    "gene_parameters = [params1, params2]\n",
    "pop = Population(best_sample, lucky_few, population_size, \n",
    "                 number_of_children, gene_parameters, \n",
    "                 maximise_scores = True)\n",
    "pop"
   ]
  },
  {
   "cell_type": "markdown",
   "metadata": {},
   "source": [
    "To initialise the population"
   ]
  },
  {
   "cell_type": "code",
   "execution_count": 14,
   "metadata": {},
   "outputs": [
    {
     "name": "stdout",
     "output_type": "stream",
     "text": [
      "Initial population of size 12 generated\n"
     ]
    }
   ],
   "source": [
    "pop.initialise_population()"
   ]
  },
  {
   "cell_type": "markdown",
   "metadata": {},
   "source": [
    "If you want a way of neatly seeing what individuals are in the population"
   ]
  },
  {
   "cell_type": "code",
   "execution_count": 15,
   "metadata": {},
   "outputs": [
    {
     "name": "stdout",
     "output_type": "stream",
     "text": [
      "Individual(['[1, 12, 14, 0.72]', '[64, 79, 63, 1.68]']) has a score of: 65\n",
      "Individual(['[21, 2, 2, 0.88]', '[88, 91, 98, 1.37]']) has a score of: 109\n",
      "Individual(['[40, 6, 45, 0.85]', '[65, 68, 84, 1.27]']) has a score of: 105\n",
      "Individual(['[33, 30, 48, 0.77]', '[94, 96, 78, 1.3]']) has a score of: 127\n",
      "Individual(['[36, 6, 11, 0.3]', '[86, 70, 62, 1.38]']) has a score of: 122\n",
      "Individual(['[44, 16, 21, 0.67]', '[53, 63, 83, 1.14]']) has a score of: 97\n",
      "Individual(['[24, 7, 21, 0.64]', '[64, 66, 55, 1.25]']) has a score of: 88\n",
      "Individual(['[4, 24, 31, 0.71]', '[91, 87, 76, 1.55]']) has a score of: 95\n",
      "Individual(['[39, 30, 3, 0.41]', '[72, 53, 69, 1.32]']) has a score of: 111\n",
      "Individual(['[25, 49, 10, 0.3]', '[94, 93, 80, 1.79]']) has a score of: 119\n",
      "Individual(['[23, 13, 41, 0.78]', '[91, 85, 51, 1.12]']) has a score of: 114\n",
      "Individual(['[16, 49, 12, 0.75]', '[95, 81, 54, 1.54]']) has a score of: 111\n"
     ]
    }
   ],
   "source": [
    "pop.print_population()"
   ]
  },
  {
   "cell_type": "markdown",
   "metadata": {},
   "source": [
    "The next generation can then be generated "
   ]
  },
  {
   "cell_type": "code",
   "execution_count": 16,
   "metadata": {},
   "outputs": [
    {
     "name": "stdout",
     "output_type": "stream",
     "text": [
      "Individual(['[40, 30, 11, 0.41]', '[72, 53, 69, 1.27]']) has a score of: 112\n",
      "Individual(['[6, 49, 10, 0.3]', '[76, 85, 98, 1.79]']) has a score of: 82\n",
      "Individual(['[46, 8, 32, 0.74]', '[94, 96, 73, 1.3]']) has a score of: 140\n",
      "Individual(['[36, 42, 11, 0.66]', '[90, 98, 58, 1.38]']) has a score of: 126\n",
      "Individual(['[39, 30, 48, 0.63]', '[81, 96, 78, 1.38]']) has a score of: 120\n",
      "Individual(['[40, 4, 9, 0.9]', '[76, 67, 82, 1.27]']) has a score of: 116\n",
      "Individual(['[23, 48, 39, 0.63]', '[94, 80, 51, 1.79]']) has a score of: 117\n",
      "Individual(['[48, 7, 40, 0.3]', '[94, 85, 51, 1.12]']) has a score of: 142\n",
      "Individual(['[25, 6, 24, 0.85]', '[91, 53, 56, 1.28]']) has a score of: 116\n",
      "Individual(['[5, 30, 45, 0.41]', '[73, 68, 72, 1.25]']) has a score of: 78\n",
      "Individual(['[18, 49, 41, 0.78]', '[94, 61, 80, 1.79]']) has a score of: 112\n",
      "Individual(['[5, 6, 22, 0.3]', '[68, 51, 52, 1.38]']) has a score of: 73\n"
     ]
    }
   ],
   "source": [
    "pop.next_generation()\n",
    "pop.print_population()"
   ]
  },
  {
   "cell_type": "markdown",
   "metadata": {},
   "source": [
    "So to run the full GA "
   ]
  },
  {
   "cell_type": "code",
   "execution_count": 17,
   "metadata": {},
   "outputs": [
    {
     "name": "stdout",
     "output_type": "stream",
     "text": [
      "Individual(['[1, 3, 32, 0.41]', '[98, 82, 64, 1.78]']) has a score of: 99\n",
      "Individual(['[47, 45, 15, 0.42]', '[71, 83, 93, 1.65]']) has a score of: 118\n",
      "Individual(['[18, 43, 25, 0.49]', '[55, 95, 96, 1.4]']) has a score of: 73\n",
      "Individual(['[3, 43, 1, 0.37]', '[75, 78, 71, 1.41]']) has a score of: 78\n",
      "Individual(['[37, 21, 20, 0.17]', '[99, 59, 96, 1.81]']) has a score of: 136\n",
      "Individual(['[37, 41, 47, 0.53]', '[88, 73, 71, 1.41]']) has a score of: 125\n",
      "Individual(['[37, 43, 47, 0.3]', '[68, 71, 71, 1.11]']) has a score of: 105\n",
      "Individual(['[14, 12, 15, 0.58]', '[83, 83, 96, 1.76]']) has a score of: 97\n",
      "Individual(['[30, 12, 3, 0.83]', '[68, 79, 64, 1.76]']) has a score of: 98\n",
      "Individual(['[41, 12, 32, 0.12]', '[81, 55, 64, 1.79]']) has a score of: 122\n",
      "Individual(['[47, 39, 46, 0.41]', '[81, 52, 77, 1.79]']) has a score of: 128\n",
      "Individual(['[35, 45, 7, 0.33]', '[78, 67, 58, 1.18]']) has a score of: 113\n"
     ]
    }
   ],
   "source": [
    "for _ in range(num_gens):\n",
    "    pop.next_generation()\n",
    "pop.print_population()"
   ]
  },
  {
   "cell_type": "markdown",
   "metadata": {},
   "source": [
    "## BestHistory"
   ]
  },
  {
   "cell_type": "markdown",
   "metadata": {},
   "source": [
    "BestHistory is a class to store the history and check convergence criteria. So the entire GA can be run, printed, and saved using the following code snippet:"
   ]
  },
  {
   "cell_type": "code",
   "execution_count": 18,
   "metadata": {
    "scrolled": true
   },
   "outputs": [
    {
     "name": "stdout",
     "output_type": "stream",
     "text": [
      "Initial population of size 12 generated\n",
      "Generation 0\n",
      "Best Individual Individual(['[42, 29, 31, 0.12]', '[99, 85, 53, 1.47]']) with a score of 141 added to history\n",
      "-------\n",
      "Generation 1\n",
      "Best Individual Individual(['[42, 45, 10, 0.79]', '[99, 72, 93, 1.62]']) with a score of 141 added to history\n",
      "-------\n",
      "Generation 2\n",
      "Best Individual Individual(['[35, 38, 10, 0.81]', '[91, 72, 69, 1.62]']) with a score of 126 added to history\n",
      "-------\n",
      "Generation 3\n",
      "Best Individual Individual(['[44, 38, 4, 0.79]', '[93, 72, 64, 1.35]']) with a score of 137 added to history\n",
      "-------\n",
      "Generation 4\n",
      "Best Individual Individual(['[48, 49, 34, 0.23]', '[96, 72, 79, 1.9]']) with a score of 144 added to history\n",
      "-------\n",
      "Generation 5\n",
      "Best Individual Individual(['[48, 49, 10, 0.48]', '[93, 72, 55, 1.45]']) with a score of 141 added to history\n",
      "-------\n",
      "Generation 6\n",
      "Best Individual Individual(['[42, 49, 10, 0.18]', '[98, 71, 66, 1.45]']) with a score of 140 added to history\n",
      "-------\n",
      "Generation 7\n",
      "Best Individual Individual(['[42, 49, 10, 0.43]', '[98, 97, 80, 1.45]']) with a score of 140 added to history\n",
      "-------\n",
      "Generation 8\n",
      "Best Individual Individual(['[44, 32, 25, 0.2]', '[89, 63, 62, 1.68]']) with a score of 133 added to history\n",
      "-------\n",
      "Generation 9\n",
      "Best Individual Individual(['[38, 11, 21, 0.18]', '[99, 84, 80, 1.77]']) with a score of 137 added to history\n",
      "-------\n",
      "Generation 10\n",
      "Best Individual Individual(['[38, 41, 21, 0.86]', '[99, 69, 80, 1.51]']) with a score of 137 added to history\n",
      "-------\n",
      "Generation 11\n",
      "Best Individual Individual(['[40, 39, 21, 0.2]', '[99, 62, 80, 1.51]']) with a score of 139 added to history\n",
      "-------\n",
      "Generation 12\n",
      "Best Individual Individual(['[40, 44, 21, 0.54]', '[99, 51, 80, 1.36]']) with a score of 139 added to history\n",
      "-------\n",
      "Generation 13\n",
      "Best Individual Individual(['[40, 35, 6, 0.54]', '[99, 66, 80, 1.46]']) with a score of 139 added to history\n",
      "-------\n",
      "Generation 14\n",
      "Best Individual Individual(['[40, 35, 34, 0.86]', '[99, 73, 82, 1.36]']) with a score of 139 added to history\n",
      "-------\n",
      "Generation 15\n",
      "Best Individual Individual(['[41, 1, 22, 0.82]', '[88, 73, 85, 1.55]']) with a score of 129 added to history\n",
      "-------\n",
      "Generation 16\n",
      "Best Individual Individual(['[36, 35, 14, 0.47]', '[85, 65, 60, 1.6]']) with a score of 121 added to history\n",
      "-------\n",
      "Generation 17\n",
      "Best Individual Individual(['[41, 30, 42, 0.51]', '[88, 86, 78, 1.55]']) with a score of 129 added to history\n",
      "-------\n",
      "Generation 18\n",
      "Best Individual Individual(['[45, 30, 37, 0.31]', '[93, 84, 98, 1.61]']) with a score of 138 added to history\n",
      "-------\n",
      "Generation 19\n",
      "Best Individual Individual(['[41, 34, 46, 0.31]', '[95, 69, 68, 1.63]']) with a score of 136 added to history\n",
      "-------\n",
      "Generation 20\n",
      "Best Individual Individual(['[41, 33, 33, 0.31]', '[97, 66, 96, 1.22]']) with a score of 138 added to history\n",
      "-------\n",
      "Generation 21\n",
      "Best Individual Individual(['[41, 4, 46, 0.48]', '[95, 69, 97, 1.2]']) with a score of 136 added to history\n",
      "-------\n",
      "Generation 22\n",
      "Best Individual Individual(['[47, 14, 28, 0.46]', '[97, 91, 85, 1.15]']) with a score of 144 added to history\n",
      "-------\n",
      "Generation 23\n",
      "Best Individual Individual(['[47, 14, 28, 0.19]', '[97, 85, 91, 1.81]']) with a score of 144 added to history\n",
      "SOAP_GAS has converged\n",
      "-------\n"
     ]
    }
   ],
   "source": [
    "hist = BestHistory(early_stop, early_number, min_generations)\n",
    "pop = Population(best_sample, lucky_few, population_size, \n",
    "                 number_of_children, gene_parameters, \n",
    "                 maximise_scores = True)\n",
    "\n",
    "pop.initialise_population()    \n",
    "for gen in range(num_gens):\n",
    "    if hist.converged:\n",
    "        break\n",
    "    print(f\"Generation {gen}\")\n",
    "    pop.next_generation()\n",
    "    hist.append(pop)\n",
    "    print(\"-------\")"
   ]
  },
  {
   "cell_type": "markdown",
   "metadata": {},
   "source": [
    "There now exists the entire history of the best Individuals throughout each generation that can be saved and easily accessed. "
   ]
  },
  {
   "cell_type": "code",
   "execution_count": 19,
   "metadata": {},
   "outputs": [
    {
     "data": {
      "text/plain": [
       "{'history': [Individual(['GeneSet(42, 29, 31, 0.12)', 'GeneSet(99, 85, 53, 1.47)']),\n",
       "  Individual(['GeneSet(42, 45, 10, 0.79)', 'GeneSet(99, 72, 93, 1.62)']),\n",
       "  Individual(['GeneSet(35, 38, 10, 0.81)', 'GeneSet(91, 72, 69, 1.62)']),\n",
       "  Individual(['GeneSet(44, 38, 4, 0.79)', 'GeneSet(93, 72, 64, 1.35)']),\n",
       "  Individual(['GeneSet(48, 49, 34, 0.23)', 'GeneSet(96, 72, 79, 1.9)']),\n",
       "  Individual(['GeneSet(48, 49, 10, 0.48)', 'GeneSet(93, 72, 55, 1.45)']),\n",
       "  Individual(['GeneSet(42, 49, 10, 0.18)', 'GeneSet(98, 71, 66, 1.45)']),\n",
       "  Individual(['GeneSet(42, 49, 10, 0.43)', 'GeneSet(98, 97, 80, 1.45)']),\n",
       "  Individual(['GeneSet(44, 32, 25, 0.2)', 'GeneSet(89, 63, 62, 1.68)']),\n",
       "  Individual(['GeneSet(38, 11, 21, 0.18)', 'GeneSet(99, 84, 80, 1.77)']),\n",
       "  Individual(['GeneSet(38, 41, 21, 0.86)', 'GeneSet(99, 69, 80, 1.51)']),\n",
       "  Individual(['GeneSet(40, 39, 21, 0.2)', 'GeneSet(99, 62, 80, 1.51)']),\n",
       "  Individual(['GeneSet(40, 44, 21, 0.54)', 'GeneSet(99, 51, 80, 1.36)']),\n",
       "  Individual(['GeneSet(40, 35, 6, 0.54)', 'GeneSet(99, 66, 80, 1.46)']),\n",
       "  Individual(['GeneSet(40, 35, 34, 0.86)', 'GeneSet(99, 73, 82, 1.36)']),\n",
       "  Individual(['GeneSet(41, 1, 22, 0.82)', 'GeneSet(88, 73, 85, 1.55)']),\n",
       "  Individual(['GeneSet(36, 35, 14, 0.47)', 'GeneSet(85, 65, 60, 1.6)']),\n",
       "  Individual(['GeneSet(41, 30, 42, 0.51)', 'GeneSet(88, 86, 78, 1.55)']),\n",
       "  Individual(['GeneSet(45, 30, 37, 0.31)', 'GeneSet(93, 84, 98, 1.61)']),\n",
       "  Individual(['GeneSet(41, 34, 46, 0.31)', 'GeneSet(95, 69, 68, 1.63)']),\n",
       "  Individual(['GeneSet(41, 33, 33, 0.31)', 'GeneSet(97, 66, 96, 1.22)']),\n",
       "  Individual(['GeneSet(41, 4, 46, 0.48)', 'GeneSet(95, 69, 97, 1.2)']),\n",
       "  Individual(['GeneSet(47, 14, 28, 0.46)', 'GeneSet(97, 91, 85, 1.15)']),\n",
       "  Individual(['GeneSet(47, 14, 28, 0.19)', 'GeneSet(97, 85, 91, 1.81)'])],\n",
       " 'converged': True,\n",
       " 'early_stop': 2,\n",
       " 'early_number': 3,\n",
       " 'min_generations': 5}"
      ]
     },
     "execution_count": 19,
     "metadata": {},
     "output_type": "execute_result"
    }
   ],
   "source": [
    "vars(hist)"
   ]
  },
  {
   "cell_type": "code",
   "execution_count": null,
   "metadata": {},
   "outputs": [],
   "source": []
  }
 ],
 "metadata": {
  "kernelspec": {
   "display_name": "quippy",
   "language": "python",
   "name": "quippy"
  },
  "language_info": {
   "codemirror_mode": {
    "name": "ipython",
    "version": 3
   },
   "file_extension": ".py",
   "mimetype": "text/x-python",
   "name": "python",
   "nbconvert_exporter": "python",
   "pygments_lexer": "ipython3",
   "version": "3.9.6"
  },
  "toc": {
   "base_numbering": 1,
   "nav_menu": {},
   "number_sections": true,
   "sideBar": true,
   "skip_h1_title": false,
   "title_cell": "Table of Contents",
   "title_sidebar": "Contents",
   "toc_cell": false,
   "toc_position": {
    "height": "calc(100% - 180px)",
    "left": "10px",
    "top": "150px",
    "width": "325.797px"
   },
   "toc_section_display": true,
   "toc_window_display": true
  }
 },
 "nbformat": 4,
 "nbformat_minor": 5
}
